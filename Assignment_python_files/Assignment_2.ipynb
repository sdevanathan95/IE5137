{
 "cells": [
  {
   "cell_type": "markdown",
   "metadata": {},
   "source": [
    "# Assignment 2\n",
    "# IE 5137 Computational Modelling in Industrial Engineering\n",
    "\n",
    "\n",
    "\n",
    "  "
   ]
  },
  {
   "cell_type": "markdown",
   "metadata": {},
   "source": [
    " \n",
    "  \n",
    "  \n",
    "  \n",
    "   "
   ]
  },
  {
   "cell_type": "markdown",
   "metadata": {},
   "source": [
    "  "
   ]
  },
  {
   "cell_type": "markdown",
   "metadata": {},
   "source": [
    "# Question 1\n",
    "\n",
    "For the polynomial<br>\n",
    "<br>\n",
    "&nbsp;&nbsp;&nbsp;&nbsp;&nbsp;&nbsp;&nbsp;&nbsp; $f(x, y) = (x + y)^{6}$ &nbsp;&nbsp; (1)<br>\n",
    "<br>\n",
    "&nbsp;&nbsp;&nbsp;&nbsp;&nbsp;&nbsp;&nbsp;&nbsp;&nbsp;&nbsp;&nbsp;&nbsp;&nbsp;&nbsp;&nbsp;&nbsp;&nbsp;&nbsp;&nbsp;&nbsp;&nbsp; $=  x^{6} + 6x^{5}y + 15x^{4}y^{2} + 20x^{3}y^{3} + 15x^{2}y^{4} + 6xy^{5} + y^{6}$ &nbsp;&nbsp; (2)<br>\n",
    "<br>\n",
    "compute $f$ using: (i) the compact form $(x + y)^{6}$; and (ii) the expanded form for:\n",
    "\n",
    "(a) $x = 10$ and $y = 10.1$\n",
    "\n",
    "(b) $x = 10$ and $y = -10.1$\n",
    "\n",
    "and compare the number of significant digits for which the answers are the same. Store the answer for the compact version using the variable f0, and using the variable f1 for the expanded version.\n",
    "\n",
    "For case (b), compare the computed and analytical _**(calculation using pen and paper)**_ solutions and consider the relative error. Which approach would you recommend for computing this expression?"
   ]
  },
  {
   "cell_type": "code",
   "execution_count": 2,
   "metadata": {},
   "outputs": [],
   "source": [
    "def function(x,y):\n",
    "    f = (x+y)**6\n",
    "    print(f)"
   ]
  },
  {
   "cell_type": "code",
   "execution_count": 3,
   "metadata": {},
   "outputs": [],
   "source": [
    "def function1(x,y):\n",
    "    f = (x**6) + (6*(x**5)*y) + (15*(x**4)*(y**2)) + (20*(x**3)*(y**3)) + (15*(x**2)*(y**4)) + (6*(x)*(y**5)) + (y**6)\n",
    "    print(f)"
   ]
  },
  {
   "cell_type": "code",
   "execution_count": 4,
   "metadata": {},
   "outputs": [
    {
     "name": "stdout",
     "output_type": "stream",
     "text": [
      "65944160.60120103\n",
      "65944160.601201\n"
     ]
    }
   ],
   "source": [
    "x= 10\n",
    "y= 10.1\n",
    "function(x,y)\n",
    "function1(x,y)"
   ]
  },
  {
   "cell_type": "code",
   "execution_count": 5,
   "metadata": {},
   "outputs": [
    {
     "name": "stdout",
     "output_type": "stream",
     "text": [
      "9.999999999999788e-07\n",
      "9.958166629076004e-07\n"
     ]
    }
   ],
   "source": [
    "x = 10\n",
    "y = -10.1\n",
    "function(x,y)\n",
    "function1(x,y)"
   ]
  },
  {
   "cell_type": "code",
   "execution_count": null,
   "metadata": {},
   "outputs": [],
   "source": [
    "# Compact form is better"
   ]
  },
  {
   "cell_type": "markdown",
   "metadata": {},
   "source": [
    "## Question 2\n",
    "\n",
    "ls = ['run', 'world', 'travel', 'lights', 'moon', 'baseball', 'sea']<br>\n",
    "new = ls[2:4]<br>\n",
    "print(new)"
   ]
  },
  {
   "cell_type": "markdown",
   "metadata": {},
   "source": [
    "A. ['travel', 'lights', 'moon']<br>\n",
    "B. ['world', 'travel', 'lights']<br>\n",
    "C. ['travel', 'lights']<br>\n",
    "D. ['world', 'travel']"
   ]
  },
  {
   "cell_type": "markdown",
   "metadata": {},
   "source": [
    "C"
   ]
  },
  {
   "cell_type": "markdown",
   "metadata": {},
   "source": [
    "## Question 3\n",
    "\n",
    "With only one line of code, assign the variables <strong>city</strong>, <strong>country</strong>, and <strong>year</strong> to the values of the tuple <strong>olymp</strong>."
   ]
  },
  {
   "cell_type": "code",
   "execution_count": 3,
   "metadata": {},
   "outputs": [
    {
     "data": {
      "text/plain": [
       "'Rio'"
      ]
     },
     "execution_count": 3,
     "metadata": {},
     "output_type": "execute_result"
    }
   ],
   "source": [
    "olymp = ('Rio', 'Brazil', 2016)\n",
    "city,country,year = olymp"
   ]
  },
  {
   "cell_type": "markdown",
   "metadata": {},
   "source": [
    "## Question 4\n",
    "\n",
    "What will the output be for the following code?<br>\n",
    "<br>\n",
    "let = \"z\"<br>\n",
    "let_two = \"p\"<br>\n",
    "c = let_two + let<br>\n",
    "m = c*5<br>\n",
    "print(m)"
   ]
  },
  {
   "cell_type": "markdown",
   "metadata": {},
   "source": [
    "A. zpzpzpzpzp<br>\n",
    "B. zzzzzppppp<br>\n",
    "C. pzpzpzpzpz<br>\n",
    "D. pppppzzzzz<br>\n",
    "E. None of the above, an error will occur."
   ]
  },
  {
   "cell_type": "markdown",
   "metadata": {},
   "source": [
    "C"
   ]
  },
  {
   "cell_type": "markdown",
   "metadata": {},
   "source": [
    "## Question 5\n",
    "What does the following block of code do?<br>\n",
    "<br>\n",
    "d =  {'a': 2, 'b': 3, 'c': 1}<br>\n",
    "e = { }<br>\n",
    "for c in d:<br>\n",
    "&nbsp;&nbsp;&nbsp;&nbsp; e[ d[ c ] ] = c<br>\n",
    "print (e)"
   ]
  },
  {
   "cell_type": "markdown",
   "metadata": {},
   "source": [
    "A. It creates a new copy of d.<br>\n",
    "B. It creates a new dictionary which swaps the keys and values in d.<br>\n",
    "C. It throws an error.<br>\n",
    "D. It creates a new dictionary which maps each of d's keys to itself.<br>\n",
    "E. It creates a new dictionary which maps each of d's values to itself."
   ]
  },
  {
   "cell_type": "markdown",
   "metadata": {},
   "source": [
    "B"
   ]
  },
  {
   "cell_type": "markdown",
   "metadata": {},
   "source": [
    "## Question 6\n",
    "\n",
    "Rewrite your pay computation to give the employee 1.5 times the hourly rate for hours worked above 40 hours.<br>\n",
    "<br>\n",
    "Enter Hours: 45<br>\n",
    "Enter Rate: 10<br>\n",
    "Pay: 475.0<br>"
   ]
  },
  {
   "cell_type": "code",
   "execution_count": 5,
   "metadata": {},
   "outputs": [],
   "source": [
    "def pay(hours,rate):\n",
    "    \n",
    "    if hours > 40:\n",
    "        pay1 = 40*rate\n",
    "        pay2 = (hours-40)*(1.5*rate)\n",
    "        total = pay1+pay2\n",
    "        return total\n",
    "    else:\n",
    "        total = hours*rate\n",
    "        return total"
   ]
  },
  {
   "cell_type": "code",
   "execution_count": 10,
   "metadata": {},
   "outputs": [
    {
     "name": "stdout",
     "output_type": "stream",
     "text": [
      "Enter the hours worked:10\n",
      "Enter the rate:10\n",
      "100\n"
     ]
    }
   ],
   "source": [
    "x = True\n",
    "y = True\n",
    "\n",
    "while x == True:\n",
    "    try:\n",
    "        hours = eval(input(\"Enter the hours worked:\"))\n",
    "        x = False\n",
    "    except:\n",
    "        print(\"Try again,Enter a numerical Value\")\n",
    "        x = True\n",
    "while y == True:        \n",
    "    try:\n",
    "        rate = eval(input(\"Enter the rate:\"))\n",
    "        y = False\n",
    "    except:\n",
    "        print(\"Try again,Enter a numerical value\")\n",
    "        y = True\n",
    "        \n",
    "totalpay = pay(hours,rate)\n",
    "print(totalpay)"
   ]
  },
  {
   "cell_type": "markdown",
   "metadata": {},
   "source": [
    "## Question 7\n",
    "\n",
    "Write a program to prompt for a score between 0.0 and 1.0. If the score is out of range, print an error message. If the score is between 0.0 and 1.0, print a grade using the following table:\n",
    "<table>\n",
    "    <tr>\n",
    "        <th> Score </th>\n",
    "        <th> Grade </th>\n",
    "    </tr>\n",
    "    <tr>\n",
    "        <td> >=0.9</td>\n",
    "        <td> A</td>\n",
    "    </tr>\n",
    "    <tr>\n",
    "        <td> >=0.8</td>\n",
    "        <td> B</td>\n",
    "    </tr>    \n",
    "        <td> >=0.7</td>\n",
    "        <td> C</td>\n",
    "    <tr>    \n",
    "        <td> >=0.6</td>\n",
    "        <td> D</td>\n",
    "    </tr>\n",
    "    <tr>\n",
    "        <td> < 0.6 </td>\n",
    "        <td> F </td>   \n",
    "    </tr>\n",
    "</table>"
   ]
  },
  {
   "cell_type": "code",
   "execution_count": 14,
   "metadata": {},
   "outputs": [],
   "source": [
    "def grade(score):\n",
    "    if (score >= 0.9):\n",
    "        return \"A\"\n",
    "    if (score >=0.8 and score <= 0.9):\n",
    "        return \"B\"\n",
    "    if (score >=0.7 and score <= 0.8):\n",
    "        return \"C\"\n",
    "    if (score >=0.6 and score <= 0.7):\n",
    "        return \"D\"\n",
    "    else:\n",
    "        return \"F\""
   ]
  },
  {
   "cell_type": "code",
   "execution_count": 17,
   "metadata": {},
   "outputs": [
    {
     "name": "stdout",
     "output_type": "stream",
     "text": [
      "Enter a number between 0 and 1: 0.99\n",
      "Your grade is:  A\n"
     ]
    }
   ],
   "source": [
    "score = eval(input(\"Enter a number between 0 and 1: \"))\n",
    "if (score <= 1.0 and score  >= 0.0):\n",
    "     print(\"Your grade is: \",grade(score))\n",
    "else:\n",
    "    print(\"Out of range\")\n"
   ]
  },
  {
   "cell_type": "markdown",
   "metadata": {},
   "source": [
    "## Question 8\n",
    "\n",
    "Write a program which repeatedly reads numbers until the user enters “done”.<br> \n",
    "Once “done” is entered, print out the total, count, and average of the numbers.<br>\n",
    "If the user enters anything other than a number, detect their mistake using <strong>try</strong> and <strong>except</strong> and print an error message and skip to the next number.<br>\n",
    "<br>\n",
    "Enter a number: 4<br>\n",
    "Enter a number: 5<br>\n",
    "Enter a number: bad data<br>\n",
    "Invalid input<br>\n",
    "Enter a number: 7<br>\n",
    "Enter a number: done<br>\n",
    "16 3 5.333333333333333"
   ]
  },
  {
   "cell_type": "code",
   "execution_count": 4,
   "metadata": {},
   "outputs": [
    {
     "name": "stdout",
     "output_type": "stream",
     "text": [
      "Enter a number or 'Done' when Done: 4\n",
      "Enter a number or 'Done' when Done: 5\n",
      "Enter a number or 'Done' when Done: bad data\n",
      "Invalid Input\n",
      "Enter a number or 'Done' when Done: 7\n",
      "Enter a number or 'Done' when Done: Done\n",
      "16.0 3 5.333333333333333\n"
     ]
    }
   ],
   "source": [
    "lis = []\n",
    "x = True\n",
    "while x == True:\n",
    "    number = input(\"Enter a number or 'Done' when Done: \")\n",
    "    try:\n",
    "        if (number.isnumeric() == True):\n",
    "            number = float(number)\n",
    "            lis.append(number)\n",
    "        elif (number =='done' or number == 'Done'):\n",
    "            x = False\n",
    "            break\n",
    "        else:\n",
    "            raise KeyError\n",
    "    except:\n",
    "        print(\"Invalid Input\")\n",
    "        x = True\n",
    "    \n",
    "print(sum(lis),len(lis), sum(lis)/len(lis))\n"
   ]
  },
  {
   "cell_type": "markdown",
   "metadata": {},
   "source": [
    "## Question 9\n",
    " \n",
    "write a program that prompts the user for a list of numbers and prints out the maximum and minimum of the numbers at the end when the user enters “done”.<br><br>\n",
    "_Hint: store the numbers the user enters in a list and use the <strong>max()</strong> and <strong>min()</strong> functions to compute the maximum and minimum numbers after the loop completes._ <br>\n",
    "<br>\n",
    "Enter a number: 6<br>\n",
    "Enter a number: 2<br>\n",
    "Enter a number: 9<br>\n",
    "Enter a number: 3<br>\n",
    "Enter a number: 5<br>\n",
    "Enter a number: done<br>\n",
    "Maximum: 9.0<br>\n",
    "Minimum: 2.0"
   ]
  },
  {
   "cell_type": "code",
   "execution_count": 6,
   "metadata": {},
   "outputs": [
    {
     "name": "stdout",
     "output_type": "stream",
     "text": [
      "Enter a number: 1\n",
      "Enter a number: 2\n",
      "Enter a number: 3\n",
      "Enter a number: 4\n",
      "Enter a number: 5\n",
      "Enter a number: 5\n",
      "Enter a number: 6\n",
      "Enter a number: done\n",
      "Maximum\n",
      "6.0\n",
      "Minimim\n",
      "1.0\n"
     ]
    }
   ],
   "source": [
    "lis = []\n",
    "x = True\n",
    "\n",
    "while x==True:\n",
    "    number = input(\"Enter a number: \")\n",
    "    if (number.isnumeric() == True):\n",
    "        number = float(number)\n",
    "        lis.append(number)\n",
    "    elif (number == 'done' or number == 'Done'):\n",
    "        x == False\n",
    "        break\n",
    "print(\"Maximum\",max(lis),\"Minimim\",min(lis),sep='\\n')"
   ]
  },
  {
   "cell_type": "markdown",
   "metadata": {},
   "source": [
    "## Question 10\n",
    "\n",
    "Bisection is an iterative method for finding approximate roots of a function. Say we know that the function $f(x)$ has one root between $x_{0}$ and $x_{1}$ $(x_{0} < x_{1})$. We then:\n",
    "\n",
    "-  Evaluate $f$ at the midpoint $x_{\\rm mid} = (x_0 + x_1)/2$, i.e. compute $f_{\\rm mid} = f(x_{\\rm mid})$<br>\n",
    "-  Evaluate $f(x_0) \\cdot f(x_{\\rm mid})$\n",
    "\n",
    ">  -  If $f(x_0) \\cdot f(x_{\\rm mid}) < 0$:<br>\n",
    ">$f$ must change sign somewhere between $x_0$ and $x_{\\rm mid}$, hence the root must lie between $x_0$ and $x_{\\rm mid}$, so set $x_1 = x_{\\rm mid}$.\n",
    "\n",
    "> - Else<br>\n",
    ">$f$ must change sign somewhere between $x_{\\rm mid}$ and $x_1$, so set $x_0 = x_{\\rm mid}$.\n",
    "\n",
    "The above steps can be repeated a specified number of times, ~~or until |f_{\\rm mid}| is below a tolerance~~, with $x_{\\rm mid}$ being the approximate root.<br>\n",
    "\n",
    "### **Task**<br>\n",
    "The function\n",
    "\n",
    "$$\n",
    "f(x) = x^3 - 6x^2 + 4x + 12\n",
    "$$\n",
    "has one root somewhere between $x_0 = 3$ and $x_1 = 6$.\n",
    "\n",
    "Use the bisection method to find an approximate root $x_{r}$ using 15 iterations (use a for loop).<br>\n",
    "<br>\n",
    "Store the approximate root using the variable x_mid, and store $f(x_{\\rm mid})$ using the variable f.\n",
    "\n",
    "~~_Hint: Use abs to compute the absolute value of a number, e.g. y = abs(x) assigns the absolute value of x to y._~~"
   ]
  },
  {
   "cell_type": "code",
   "execution_count": 8,
   "metadata": {},
   "outputs": [],
   "source": [
    "def function(x):\n",
    "    f = (x**3)-(6*(x**2))+(4*x)+12\n",
    "    return f"
   ]
  },
  {
   "cell_type": "code",
   "execution_count": 9,
   "metadata": {},
   "outputs": [
    {
     "name": "stdout",
     "output_type": "stream",
     "text": [
      "4.5341033935546875\n"
     ]
    }
   ],
   "source": [
    "x0 = 3\n",
    "x1 = 6\n",
    "xmid = (x0+x1)/2\n",
    "for x in range(15):\n",
    "    value = function(x0)*function(xmid)\n",
    "    if value <0:\n",
    "        x1 = xmid\n",
    "        xmid = (x0+x1)/2\n",
    "    else:\n",
    "        x0 = xmid\n",
    "        xmid = (x0+x1)/2\n",
    "print(xmid)"
   ]
  },
  {
   "cell_type": "code",
   "execution_count": 12,
   "metadata": {},
   "outputs": [
    {
     "name": "stdout",
     "output_type": "stream",
     "text": [
      "4.5\n",
      "5.25\n",
      "4.875\n",
      "4.6875\n",
      "4.59375\n",
      "4.546875\n",
      "4.5234375\n",
      "4.53515625\n",
      "4.529296875\n",
      "4.5322265625\n",
      "4.53369140625\n",
      "4.534423828125\n",
      "4.5340576171875\n",
      "4.53424072265625\n",
      "4.534149169921875\n"
     ]
    }
   ],
   "source": [
    "x0 = 3\n",
    "x1 = 6\n",
    "\n",
    "#define function for polynomial \n",
    "def funx(x):\n",
    "    f = x**3 - 6*x**2 + 4*x + 12\n",
    "    return f\n",
    "\n",
    "for i in range(15):\n",
    "    x_mid = (x0+x1)/2\n",
    "    if (funx(x0)*funx(x_mid)) < 0:\n",
    "        x1 = x_mid\n",
    "    else: \n",
    "        x0 = x_mid\n",
    "    print(x_mid)"
   ]
  }
 ],
 "metadata": {
  "kernelspec": {
   "display_name": "Python 3",
   "language": "python",
   "name": "python3"
  },
  "language_info": {
   "codemirror_mode": {
    "name": "ipython",
    "version": 3
   },
   "file_extension": ".py",
   "mimetype": "text/x-python",
   "name": "python",
   "nbconvert_exporter": "python",
   "pygments_lexer": "ipython3",
   "version": "3.7.6"
  }
 },
 "nbformat": 4,
 "nbformat_minor": 4
}
