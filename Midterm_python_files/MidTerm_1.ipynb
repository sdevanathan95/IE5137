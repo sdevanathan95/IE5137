{
 "cells": [
  {
   "cell_type": "markdown",
   "metadata": {},
   "source": [
    "# IE 5137 Computational Modelling in Industrial Engineering"
   ]
  },
  {
   "cell_type": "markdown",
   "metadata": {},
   "source": [
    "## Mid Term"
   ]
  },
  {
   "cell_type": "markdown",
   "metadata": {},
   "source": [
    " "
   ]
  },
  {
   "cell_type": "markdown",
   "metadata": {},
   "source": [
    "  "
   ]
  },
  {
   "cell_type": "markdown",
   "metadata": {},
   "source": [
    " "
   ]
  },
  {
   "cell_type": "markdown",
   "metadata": {},
   "source": [
    "### Question 1\n",
    "\n",
    "Briefly explain the difference between a Python List and a Python Tuple"
   ]
  },
  {
   "cell_type": "markdown",
   "metadata": {},
   "source": [
    "**List - It is a data type in python. It is iterable. It is mutable. It can have different datatypes inside a list.**\n",
    "\n",
    "**Tuple - It is a data type in python. It is iterable. It is immutable. It can have different datatypes inside it and depending on the data type present inside it carries its own properties.**"
   ]
  },
  {
   "cell_type": "markdown",
   "metadata": {},
   "source": [
    "### Question 2\n",
    "\n",
    "Write a function that uses indexing to add two vectors of arbitrary length (inputted as tuples), and returns the new vector.\n",
    "\n",
    "Include a check that the lengths of the two vectors are the same, and print a warning message if there is a size mismatch."
   ]
  },
  {
   "cell_type": "code",
   "execution_count": 7,
   "metadata": {},
   "outputs": [],
   "source": [
    "def vecadd(x,y):\n",
    "    \n",
    "    sum = []\n",
    "    if x == y:\n",
    "        for i,j in zip(x,y):     # Zip function used\n",
    "            sum.append(i+j)\n",
    "        return tuple(sum)\n",
    "    else:\n",
    "        print(\"The tuple are not same length\")\n",
    "    "
   ]
  },
  {
   "cell_type": "code",
   "execution_count": 9,
   "metadata": {},
   "outputs": [
    {
     "name": "stdout",
     "output_type": "stream",
     "text": [
      "Enter the numbers for vector 1: 1,2,3,4\n",
      "Enter the numbers for vector 2:1,2,3\n"
     ]
    }
   ],
   "source": [
    "vec1 = tuple(input(\"Enter the numbers for vector 1: \"))\n",
    "vec2 = tuple(input(\"Enter the numbers for vector 2:\"))"
   ]
  },
  {
   "cell_type": "code",
   "execution_count": 10,
   "metadata": {},
   "outputs": [
    {
     "name": "stdout",
     "output_type": "stream",
     "text": [
      "The tuple are not same length\n",
      "None\n"
     ]
    }
   ],
   "source": [
    "sum = vecadd(vec1,vec2)\n",
    "print(sum)"
   ]
  },
  {
   "cell_type": "markdown",
   "metadata": {},
   "source": [
    "### Question 3\n",
    "\n",
    "What is the correct order of precedence in Python for the following families of operators:\n",
    "\n",
    "a. mathematical, logical, relational\\\n",
    "b. logical, relational, mathematical\\\n",
    "c. mathematical, relational, logical\\\n",
    "d. logical, mathematical, relational\n"
   ]
  },
  {
   "cell_type": "markdown",
   "metadata": {},
   "source": [
    "**c. mathematical,relational,logical**"
   ]
  },
  {
   "cell_type": "markdown",
   "metadata": {},
   "source": [
    "### Question 4\n",
    "\n",
    "Arrange the following code (and indent appropriately):\n",
    "\n",
    "**<pre><code>\n",
    "if c not in d:\n",
    "    d = dict()    \n",
    "else:\n",
    "    print(d)\n",
    "    d[c] = d[c] + 1\n",
    "word = 'brontosaurus'\n",
    "d[c] = 1\n",
    "for c in word:\n",
    "</pre></code>**\n",
    "\n",
    "\n",
    "This program will calculate the frequency of letters in the string **word** using a **for** loop. It will construct and then print a dictionary of letter-frequency pairs.\n",
    "\n",
    "Desired output:\n",
    " \n",
    "**<pre><code>{'a': 1, 'b': 1, 'o': 2, 'n': 1, 's': 2, 'r': 2, 'u': 2, 't': 1}</pre></code>**"
   ]
  },
  {
   "cell_type": "code",
   "execution_count": 1,
   "metadata": {},
   "outputs": [
    {
     "name": "stdout",
     "output_type": "stream",
     "text": [
      "{'b': 1, 'r': 2, 'o': 2, 'n': 1, 't': 1, 's': 2, 'a': 1, 'u': 2}\n"
     ]
    }
   ],
   "source": [
    "word = 'brontosaurus'\n",
    "d = dict()\n",
    "for c in word:\n",
    "    \n",
    "    if c not in d:\n",
    "        d[c] = 1\n",
    "    else:\n",
    "        d[c] = d[c] +1\n",
    "print(d)        "
   ]
  },
  {
   "cell_type": "markdown",
   "metadata": {},
   "source": [
    "### Question 5\n",
    "\n",
    "Briefly define Runtime errors and give some examples."
   ]
  },
  {
   "cell_type": "markdown",
   "metadata": {},
   "source": [
    "**Runtime error is an error that occurs during the execution of the program.\\\n",
    "ex: runtime errors can include Parsing errors, I/O errors.**"
   ]
  },
  {
   "cell_type": "markdown",
   "metadata": {},
   "source": [
    "### Question 6\n",
    "\n",
    "Arrange the following code (and indent properly):\n",
    "\n",
    "<strong><pre><code>\n",
    "invest(amount, rate, years)\n",
    "    print(f\"year {year}: ${amount:,.2f}\")\n",
    "    rate = float(input(\"Enter an annual rate of return: \"))        \n",
    "    amount = amount * (1 + rate)\n",
    "       <br>\n",
    "def invest(amount, rate, years):        \n",
    "amount = float(input(\"Enter a principal amount: \"))\n",
    "for year in range(1, years + 1):\n",
    "years = int(input(\"Enter a number of years: \"))<br>\n",
    "</strong></pre></code>\n",
    "\n",
    "This program will take as input from the user the amount invested, rate of return, and number of years.\\\n",
    "The program will call the function **invest**. The function will print the total amount at the end of each year. \n",
    "\n",
    "Desired output:\n",
    "```\n",
    "Enter a principal amount: 100\n",
    "Enter an annual rate of return: 10\n",
    "Enter a number of years: 3\n",
    "year 1: $1,100.00\n",
    "year 2: $12,100.00\n",
    "year 3: $133,100.00\n",
    "```\n",
    "\n"
   ]
  },
  {
   "cell_type": "code",
   "execution_count": 2,
   "metadata": {},
   "outputs": [
    {
     "name": "stdout",
     "output_type": "stream",
     "text": [
      "Enter an anual rate of return: 100\n",
      "Enter a principal amount: 10\n",
      "Enter number of years: 3\n",
      "year1: $1,010.00\n",
      "year2: $102,010.00\n",
      "year3: $10,303,010.00\n"
     ]
    }
   ],
   "source": [
    "def invest(amount,rate,years):\n",
    "    for year in range(1,years+1):\n",
    "        amount = amount * (1+rate)\n",
    "        print(f\"year{year}: ${amount:,.2f}\")\n",
    "\n",
    "rate = float(input(\"Enter an anual rate of return: \"))\n",
    "amount = float(input(\"Enter a principal amount: \"))\n",
    "years = int(input(\"Enter number of years: \"))\n",
    "\n",
    "invest(amount,rate,years)"
   ]
  },
  {
   "cell_type": "markdown",
   "metadata": {},
   "source": [
    "### Question 7\n",
    "\n",
    "Write a function called **longest_word()** that takes as argument a list of words and finds and prints the longest one. Then write a program that prompts the user for a list of words (use a **for** loop) and calls your function on this list.\n",
    "\n",
    "\n",
    "\n",
    "**Hint**: You can use the **index** method to return the position of an element in a list, for example:\n",
    "<strong><pre><code>\n",
    "x = [a,b,c,d]\n",
    "x.index(c)\n",
    "</code></pre></strong>\n",
    "returns 2."
   ]
  },
  {
   "cell_type": "code",
   "execution_count": 34,
   "metadata": {},
   "outputs": [],
   "source": [
    "def find_longest_word(lst):\n",
    "    \n",
    "    nw = []  \n",
    "    \n",
    "    for i in range(len(lst)):\n",
    "        val = len(lst[i])\n",
    "        nw.append(val)\n",
    "    \n",
    "    mx = nw.index(max(nw))\n",
    "    print(lst[mx])"
   ]
  },
  {
   "cell_type": "code",
   "execution_count": 22,
   "metadata": {},
   "outputs": [
    {
     "name": "stdout",
     "output_type": "stream",
     "text": [
      "Enter the word:cat\n",
      "Enter the word:giraffe \n",
      "Enter the word:camel\n",
      "Enter the word:hyena\n",
      "Enter the word:rabbit\n"
     ]
    }
   ],
   "source": [
    "# create a list of 5 words which takes input from the user\n",
    "lt = []\n",
    "for i in range(5):\n",
    "    value = input(\"Enter the word:\")\n",
    "    lt.append(value)\n",
    "print(lt)"
   ]
  },
  {
   "cell_type": "code",
   "execution_count": 36,
   "metadata": {},
   "outputs": [
    {
     "name": "stdout",
     "output_type": "stream",
     "text": [
      "giraffe \n"
     ]
    }
   ],
   "source": [
    "find_longest_word(lt)"
   ]
  },
  {
   "cell_type": "markdown",
   "metadata": {},
   "source": [
    "### Question 8\n",
    "\n",
    "a) Write a function that takes a character (i.e., a string of length 1) and returns True if it is a vowel, and False otherwise. Test your function for several letters.\n",
    "\n",
    "b) Write a function which takes an integer number as an argument and returns True if it is odd, and False otherwise. Test your functions for several values."
   ]
  },
  {
   "cell_type": "code",
   "execution_count": 4,
   "metadata": {},
   "outputs": [],
   "source": [
    "def vowel(x):\n",
    "    if x in ['a','e','i','o','u']:\n",
    "        print(True)\n",
    "    else:\n",
    "        print(False)\n",
    "\n",
    "def is_odd(y):\n",
    "    if y%2 == 0:\n",
    "        print(\"False\")\n",
    "    else:\n",
    "        print(\"True\")\n",
    "        "
   ]
  },
  {
   "cell_type": "code",
   "execution_count": 7,
   "metadata": {},
   "outputs": [
    {
     "name": "stdout",
     "output_type": "stream",
     "text": [
      "False\n",
      "True\n"
     ]
    }
   ],
   "source": [
    "vowel('y')\n",
    "vowel('a')"
   ]
  },
  {
   "cell_type": "code",
   "execution_count": 10,
   "metadata": {},
   "outputs": [
    {
     "name": "stdout",
     "output_type": "stream",
     "text": [
      "True\n",
      "False\n"
     ]
    }
   ],
   "source": [
    "is_odd(3)\n",
    "is_odd(4)"
   ]
  },
  {
   "cell_type": "markdown",
   "metadata": {},
   "source": [
    "### Question 9\n",
    "\n",
    "The following program parses a file containing given names and the number of newborns with that name in the year 2000, identifies the names that occured at least 10000 times, and collects them in a list.\n",
    "\n",
    "The program contains 3 errors. Find and correct them.\n",
    "\n",
    "**<pre><code>\n",
    "frequent = []\n",
    "for line in open('names/yob2000.txt'):\n",
    "    columns = line.strip().split(',')\n",
    "    name = columns[1]\n",
    "    number = int(columns[3])\n",
    "    if number >= 10000\n",
    "        frequent.append(name)\n",
    "print(freqent)\n",
    "</pre></code>**"
   ]
  },
  {
   "cell_type": "markdown",
   "metadata": {},
   "source": [
    "- if number >= 10000 : **collan is missing**\n",
    "- print(freqent) **frequent is spelled wrong**"
   ]
  },
  {
   "cell_type": "markdown",
   "metadata": {},
   "source": [
    "### Question 10\n",
    "\n",
    "\n",
    "The following program merges a list of names with a list of numbers and prints them to the screen\\\n",
    "The program contains 3 defects. Find and fix them.\n",
    "\n",
    "<strong><pre><code>\n",
    "top_names = ['Jacob', 'Michael', 'Matthew', 'Joshua', 'Christopher','Nicholas', 'Andrew', 'Joseph', 'Daniel', 'Tyler']\n",
    "\n",
    "top_numbers [34465, 32025, 28569, 27531, 24928,24928, 23632, 22818, 22307, 21500]\n",
    "               \n",
    "if len(top_names) == len(top_numbers):\n",
    "print(\"Warning: lists have different lengths!\")\n",
    "print(len(top_names), len(top_numbers))\n",
    "\n",
    "for i in range(len(top_names)):\n",
    "    name = top_names[i]\n",
    "    number = top_numbers[i]\n",
    "    print(\"{:10s} {:6d}\".format(name, number))\n",
    "</pre></code></strong>\n"
   ]
  },
  {
   "cell_type": "markdown",
   "metadata": {},
   "source": [
    "- line 2: **top_numbers = is missing**\n",
    "- line 3 **== is !=**\n",
    "- line 4,5: **print is not indented**\n"
   ]
  },
  {
   "cell_type": "markdown",
   "metadata": {},
   "source": [
    "### Question 11\n",
    "\n",
    "Define a function called **sumsq** and a function called **multiply** that compute the sum of squares and the product, respectively, of all the elements in a list of numbers. For example, sumsq([1, 2, 3, 4]) should return 30 and multiply([1, 2, 3, 4]) should return 24."
   ]
  },
  {
   "cell_type": "code",
   "execution_count": 44,
   "metadata": {},
   "outputs": [],
   "source": [
    "def SumOfSquares(list1):\n",
    "    sum = 0\n",
    "    for x in list1:\n",
    "        sum += (x**2)\n",
    "    print(sum)\n",
    "\n",
    "def Multiply(list2):\n",
    "    product = 1\n",
    "    for x in list2:\n",
    "        product *= x\n",
    "    print(product)"
   ]
  },
  {
   "cell_type": "code",
   "execution_count": 45,
   "metadata": {},
   "outputs": [
    {
     "name": "stdout",
     "output_type": "stream",
     "text": [
      "Enter the numbers: 1,2,3,4\n",
      "30\n",
      "24\n"
     ]
    }
   ],
   "source": [
    "list1 = list(eval(input(\"Enter the numbers: \")))\n",
    "SumOfSquares(list1)\n",
    "Multiply(list1)"
   ]
  },
  {
   "cell_type": "markdown",
   "metadata": {},
   "source": [
    "### Question 12\n",
    "\n",
    "Write a Python program to construct the following pattern, using a nested for loop.\n",
    "```\n",
    "* \n",
    "* * \n",
    "* * * \n",
    "* * * * \n",
    "* * * * * \n",
    "* * * * \n",
    "* * * \n",
    "* * \n",
    "*```"
   ]
  },
  {
   "cell_type": "code",
   "execution_count": 59,
   "metadata": {},
   "outputs": [
    {
     "name": "stdout",
     "output_type": "stream",
     "text": [
      "\n",
      "\n",
      "* \n",
      "* * \n",
      "* * * \n",
      "* * * * \n",
      "* * * * * \n",
      "* * * * \n",
      "* * * \n",
      "* * \n",
      "* "
     ]
    }
   ],
   "source": [
    "for x in range(6):\n",
    "    print()\n",
    "    for y in range(x):\n",
    "        print(\"*\",end=' ')\n",
    "        \n",
    "for x in range(4,0,-1):\n",
    "    print()\n",
    "    for y in range(x):\n",
    "        print(\"*\",end=' ')"
   ]
  },
  {
   "cell_type": "markdown",
   "metadata": {},
   "source": [
    "### Question 13\n",
    "\n",
    "What will be the output of the following Python code?\n",
    "\n",
    "<strong><pre><code>\n",
    "i=0\n",
    "def change(i):\n",
    "    i+=1\n",
    "    return i\n",
    "change(1)\n",
    "print(i)\n",
    "</pre></code></strong>\n",
    "\n",
    "a) 1\\\n",
    "b) Nothing is displayed\\\n",
    "c) 0\\\n",
    "d) An exception is thrown"
   ]
  },
  {
   "cell_type": "markdown",
   "metadata": {},
   "source": [
    "**c) 0**"
   ]
  },
  {
   "cell_type": "markdown",
   "metadata": {},
   "source": [
    "### Question 14\n",
    "\n",
    "Which of the following mode will refer to binary data?\n",
    "\n",
    "a) r\\\n",
    "b) w\\\n",
    "c) +\\\n",
    "d) b"
   ]
  },
  {
   "cell_type": "markdown",
   "metadata": {},
   "source": [
    "**d) b**"
   ]
  },
  {
   "cell_type": "markdown",
   "metadata": {},
   "source": [
    "### Question 15\n",
    "\n",
    "The following function takes an URL as input and returns the title of the webpage. It prints an error if it cannot open the URL, and returns None if BeautifulSoup (an HTML parsing library) fails to read the HTML content of the page.\n",
    "\n",
    "The code contains 3 errors. Find and fix them.\n",
    "\n",
    "<strong><pre><code>\n",
    "def gettitle(url)\n",
    "    try:\n",
    "        _html = urlopen(url)\n",
    "    except HTTPError as e:\n",
    "        print(\"e\")\n",
    "   \n",
    "    try:\n",
    "        .soup = BeautifulSoup(html.read())\n",
    "        title = .soup.h1\n",
    "    except AttributeError as e:\n",
    "        return None\n",
    "    return title\n",
    "</pre></code></strong>"
   ]
  },
  {
   "cell_type": "markdown",
   "metadata": {},
   "source": [
    "- line 1 **def gettitle(url) missing \":\"**\n",
    "- line 5 **print(\"e\") is print(e)**\n",
    "- line 7,8 **.soup is not a valid variable name**\n"
   ]
  },
  {
   "cell_type": "markdown",
   "metadata": {},
   "source": [
    "### Question 16\n",
    "\n",
    "The factorial of a non-negative integer $n$ is expressed recursively as:$$\n",
    "n! = \n",
    "\\begin{cases}\n",
    "1 \\hspace{2.5cm} n = 0 \\\\\n",
    "(n - 1)! \\,n \\hspace{1cm}  n > 0\n",
    "\\end{cases}\n",
    "$$\n",
    "\n",
    "Develop a function named **factorial** implementing this formula using recursion. Test your function against the **math.factorial** function on several examples.\n",
    "\n",
    "Hint: A recursive function is one that calls on itself one or more times within its body, typically with different arguments."
   ]
  },
  {
   "cell_type": "code",
   "execution_count": 11,
   "metadata": {},
   "outputs": [],
   "source": [
    "def factorial(n):\n",
    "    if n == 0:\n",
    "        return 1\n",
    "    else:\n",
    "        value = factorial(n-1)*n\n",
    "        return value\n",
    "    \n",
    "value = factorial(4)\n"
   ]
  },
  {
   "cell_type": "code",
   "execution_count": 14,
   "metadata": {},
   "outputs": [
    {
     "name": "stdout",
     "output_type": "stream",
     "text": [
      "24\n",
      "24\n"
     ]
    }
   ],
   "source": [
    "import math\n",
    "\n",
    "print(factorial(4))\n",
    "print(math.factorial(4))"
   ]
  }
 ],
 "metadata": {
  "kernelspec": {
   "display_name": "Python 3",
   "language": "python",
   "name": "python3"
  },
  "language_info": {
   "codemirror_mode": {
    "name": "ipython",
    "version": 3
   },
   "file_extension": ".py",
   "mimetype": "text/x-python",
   "name": "python",
   "nbconvert_exporter": "python",
   "pygments_lexer": "ipython3",
   "version": "3.7.6"
  }
 },
 "nbformat": 4,
 "nbformat_minor": 4
}
