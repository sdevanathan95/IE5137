{
 "cells": [
  {
   "cell_type": "markdown",
   "metadata": {},
   "source": [
    "# IE 5137 Computational Modelling in Industrial Engineering"
   ]
  },
  {
   "cell_type": "markdown",
   "metadata": {},
   "source": [
    "# Mid Term II"
   ]
  },
  {
   "cell_type": "markdown",
   "metadata": {},
   "source": [
    "### Instructions:\n",
    "\n",
    "•\tThis exam is open book. You may refer to your notes, lecture slides, prior assignments or exercise sheets, and course textbooks. Use of other resources and discussion among students will not be allowed. You have 24 hours for submitting the notebook.\n",
    "\n",
    "•\tEnter you answers in the provided space. You can add extra boxes if needed under each question.\n",
    "\n",
    "•\tRename the notebook as per the assignment convention. (eg. Midterm2_DevanathanSabapathy).\n",
    "\n",
    "•\tMake sure you save the file properly before submitting.\n",
    "\n",
    "•   The points for each question is given next to the question.\n",
    "\n",
    "•\tGood Luck!!\n"
   ]
  },
  {
   "cell_type": "markdown",
   "metadata": {},
   "source": [
    " "
   ]
  },
  {
   "cell_type": "markdown",
   "metadata": {},
   "source": [
    " "
   ]
  },
  {
   "cell_type": "markdown",
   "metadata": {},
   "source": [
    "##### Import all the modules here"
   ]
  },
  {
   "cell_type": "code",
   "execution_count": null,
   "metadata": {},
   "outputs": [],
   "source": []
  },
  {
   "cell_type": "markdown",
   "metadata": {},
   "source": [
    "### 1. Numerical arrays\n",
    "\n",
    "a.\t**(10)** Create a NumPy array called $\\textbf{a}$ containing 101 equally spaced values ranging from −1 to 1.\\\n",
    "Then copy every second value of $\\textbf{a}$ to another array $\\textbf{b}$ in such a way that any changes to $\\textbf{b}$ would not affect the original values stored in $\\textbf{a}$.\n",
    "\n",
    "b.\t**(5)** Without using any loops, generate a new matrix $\\textbf{c}$ where each element `c[i,j]` is equal to the difference between `a[i]` and the square of `b[j]`.\n",
    "\n",
    "c.\t**(5)** Using fancy indexing _(`c[x,y]` where $\\textbf{x}$ and $\\textbf{y}$ are arrays with compatible shapes)_ , extract the diagonal elements from the bottom half of $\\textbf{c}$ as a column array. \n",
    "\n",
    "d.\t**(10)** **Bonus**: Visualize the matrix $\\textbf{c}$ using a contour plot with labeled contour lines.\\\n",
    "Label the axes $\\textbf{a}$ and $\\textbf{b}$, and the color bar $\\textbf{c}$. Use a colormap different from the matplotlib default.\n"
   ]
  },
  {
   "cell_type": "code",
   "execution_count": null,
   "metadata": {},
   "outputs": [],
   "source": [
    "# your code here"
   ]
  },
  {
   "cell_type": "markdown",
   "metadata": {},
   "source": [
    "### 2. Numerical methods\n",
    "\n",
    "a.\t**(10)** Define a function that calculates $f(t)=10 sin(t)-t^2  –5t+2$, and can accept array-like structures _(e.g., Python lists or NumPy arrays)_ as the argument $t$.\n",
    "\n",
    "b.\t**(10)** Plot this function as a continuous red line over the interval −7 to 3.\\\n",
    "Include enough points such that the curve appears smooth.\\\n",
    "Add grid lines, and label the axes $f$ and $t$.\n",
    "\n",
    "c.\t**(5)** Use the appropriate SciPy routine to compute the integral of $f$ from −6 to 2 with a maximum absolute tolerance of $10 ^{(-10)}$.\n",
    "\n",
    "d.  **(5)** Using the SciPy optimization routine of your choice, identify the global maximum of $f$. _(Hint: apply a suitable minimization method to $-f$)_.\\\n",
    "Then print the found maximum and its position.\n"
   ]
  },
  {
   "cell_type": "code",
   "execution_count": 1,
   "metadata": {},
   "outputs": [],
   "source": [
    "# your code here"
   ]
  },
  {
   "cell_type": "markdown",
   "metadata": {},
   "source": [
    "### 3. Labeled structures\n",
    "\n",
    "a.  **(10)** Define a function that, given a list of values $t$ and an exponent $k$, creates a Pandas series of the same length with indices equal to $t[j]$ and values equal to $t[j]^k$.\n",
    "\n",
    "b.  **(10)** Use this function to generate three different series called $a$, $b$, and $c$ of size 25, with integer indices randomly sampled from 1 and 30, and with exponents 2, 1, and 0.5, respectively.\\\n",
    "To avoid duplicate indices, use the NumPy random.choose function with appropriate arguments.\n",
    "\n",
    "c.  **(5)** Combine the three series into a three-column data frame, ensuring that only the indices they have in common are retained.\\\n",
    "What is the length of the resulting frame?\n",
    "\n",
    "d.  **(5)** Sort the resulting data frame by decreasing index.\\\n",
    "Print the top and bottom rows to check if the sorting occurred correctly.\n"
   ]
  },
  {
   "cell_type": "code",
   "execution_count": 2,
   "metadata": {},
   "outputs": [],
   "source": [
    "#your code here"
   ]
  },
  {
   "cell_type": "markdown",
   "metadata": {},
   "source": [
    "### 4. Predictive analytics\n",
    "\n",
    "a.\t**(5)** Import the glass identification dataset from the attached Excel file as a Pandas data frame, using the _ID_ column to populate the frame’s index. _(The dataset contains refractive indices and the concentrations of 8 chemical elements for a total of 214 glass samples of 6 different types)_.\n",
    "\n",
    "b.\t**(10)** Build histograms to examine the distributions of concentrations across the entire dataset.\\\n",
    "Use a for loop and the subplot functionality in matplotlib to show all 8 histograms in the same figure as a 4×2 grid.\\\n",
    "Label each graph with the corresponding element name, ensuring they are not covered by other plots.\\\n",
    "Are the different concentrations measured on the same or different scales?\n",
    "\n",
    "c.\t**(5)** Using the grouping functionality in Pandas, compute and print the mean concentrations of each element for each type of glass.\\\n",
    "How big are the _(within-element)_ differences between glass types relative to those between elements?\n",
    "\n",
    "d.\t**(5)** Using the appropriate statsmodels object, test if there are any differences between glass types in one element of your choice.\\\n",
    "Briefly describe the results of your analysis _(none, few, or many significant coefficients)_.\n",
    "\n",
    "e.\t**(10)** Some dimensionality reduction methods will perform poorly when the data are on different scales.\\\n",
    "Normalize each series of concentrations to a mean of 0 and standard deviation of 1 _(e.g., using the stats.zscore function from SciPy)_ , then extract the top two principal components of the resulting array.\n",
    "\n",
    "f.\t**(10)** Use cross validation to fit naïve Bayes classifiers to the original data and extracted principal components, using the glass type as target array in each case.\\\n",
    "Print the average accuracy scores.\\\n",
    "Which of the two approaches performed better?\n"
   ]
  },
  {
   "cell_type": "code",
   "execution_count": 3,
   "metadata": {},
   "outputs": [],
   "source": [
    "#Your code here"
   ]
  },
  {
   "cell_type": "markdown",
   "metadata": {},
   "source": [
    "### 5. Probability and statistics\n",
    "a.\t**(5)** Using the appropriate SciPy object, generate two arrays of length 100 called $x$ and $y$, containing normally distributed values where x should have mean 1 and standard deviation 1, and y should have mean 0 and standard deviation 1.\n",
    "\n",
    "b.\t**(10)** Correlated random variables can be constructed from linear combinations of independently distributed ones.\\\n",
    "To verify this, create a new array $z$ equal to the element-wise sum of $x$ and $y$, then compute the correlation coefficient between $x$ and $z$ and corresponding linear regression fit using the appropriate SciPy functions.\n",
    "\n",
    "c.\t**(10)** Visualize the relationship between $x$ and $z$ using a scatter plot.\\\n",
    "Overlay the linear trend and include the corresponding equation in the bottom right corner.\n",
    "\n",
    "d.\t**(5)** **Bonus**: Use suitable versions of the two-sample t-test to check whether $x$ and $y$, respectively $x$ and $z$, have equal means, and report the results.\\\n",
    "Justify your test choice in each case.\n"
   ]
  },
  {
   "cell_type": "code",
   "execution_count": 4,
   "metadata": {},
   "outputs": [],
   "source": [
    "#Your code here"
   ]
  }
 ],
 "metadata": {
  "kernelspec": {
   "display_name": "Python 3",
   "language": "python",
   "name": "python3"
  },
  "language_info": {
   "codemirror_mode": {
    "name": "ipython",
    "version": 3
   },
   "file_extension": ".py",
   "mimetype": "text/x-python",
   "name": "python",
   "nbconvert_exporter": "python",
   "pygments_lexer": "ipython3",
   "version": "3.7.6"
  }
 },
 "nbformat": 4,
 "nbformat_minor": 4
}
